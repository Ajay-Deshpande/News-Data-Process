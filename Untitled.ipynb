{
 "cells": [
  {
   "cell_type": "code",
   "execution_count": null,
   "id": "3ca7df9c",
   "metadata": {},
   "outputs": [],
   "source": [
    "from transformers import TextClassificationPipeline, AutoModelForSequenceClassification, AutoTokenizer\n",
    "\n",
    "tokenizer = AutoTokenizer.from_pretrained(\"ElKulako/cryptobert\", use_fast=True)\n",
    "model = AutoModelForSequenceClassification.from_pretrained(\"ElKulako/cryptobert\", num_labels = 3)\n",
    "pipe = TextClassificationPipeline(model=model, tokenizer=tokenizer, max_length=64, truncation=True, padding = 'max_length')"
   ]
  },
  {
   "cell_type": "code",
   "execution_count": 1,
   "id": "39ab6640",
   "metadata": {},
   "outputs": [],
   "source": [
    "from transformers import pipeline\n",
    "import newspaper\n",
    "import requests\n",
    "from gnews import GNews\n",
    "from tqdm import tqdm\n",
    "from selenium import webdriver\n",
    "from selenium.webdriver.support.ui import WebDriverWait\n",
    "\n",
    "options = webdriver.ChromeOptions()\n",
    "options.add_argument('--headless')\n",
    "driver = webdriver.Chrome(options=options)\n",
    "news_reader = GNews(period = \"1d\", max_results = 10)"
   ]
  },
  {
   "cell_type": "code",
   "execution_count": 2,
   "id": "bae39f6d",
   "metadata": {},
   "outputs": [],
   "source": [
    "gnews = news_reader.get_news('crypto')"
   ]
  },
  {
   "cell_type": "code",
   "execution_count": 3,
   "id": "009a435a",
   "metadata": {},
   "outputs": [
    {
     "name": "stderr",
     "output_type": "stream",
     "text": [
      " 20%|████████████████▌                                                                  | 2/10 [00:35<02:00, 15.10s/it]"
     ]
    },
    {
     "name": "stdout",
     "output_type": "stream",
     "text": [
      "An error occurred while fetching the article: Article `download()` failed with 403 Client Error: Forbidden for url: https://www.bloomberg.com/news/articles/2025-02-10/bitcoin-btc-hoarder-s-stock-soars-4-000-in-japan-after-crypto-rally on URL https://www.bloomberg.com/news/articles/2025-02-10/bitcoin-btc-hoarder-s-stock-soars-4-000-in-japan-after-crypto-rally\n",
      "'NoneType' object has no attribute 'text'\n",
      "https://www.bloomberg.com/news/articles/2025-02-10/bitcoin-btc-hoarder-s-stock-soars-4-000-in-japan-after-crypto-rally  not scraped\n"
     ]
    },
    {
     "name": "stderr",
     "output_type": "stream",
     "text": [
      "\r",
      " 30%|████████████████████████▉                                                          | 3/10 [00:36<01:00,  8.70s/it]"
     ]
    },
    {
     "name": "stdout",
     "output_type": "stream",
     "text": [
      "An error occurred while fetching the article: Article `download()` failed with 403 Client Error: Forbidden for url: https://www.ccn.com/news/crypto/ripple-solana-litecoin-doge-etfs-likely-receive-sec-nod/ on URL https://www.ccn.com/news/crypto/ripple-solana-litecoin-doge-etfs-likely-receive-sec-nod/\n",
      "'NoneType' object has no attribute 'text'\n",
      "https://www.ccn.com/news/crypto/ripple-solana-litecoin-doge-etfs-likely-receive-sec-nod/  not scraped\n"
     ]
    },
    {
     "name": "stderr",
     "output_type": "stream",
     "text": [
      "100%|██████████████████████████████████████████████████████████████████████████████████| 10/10 [01:09<00:00,  6.94s/it]\n"
     ]
    }
   ],
   "source": [
    "for news in tqdm(gnews):\n",
    "    try:\n",
    "        driver.get(news[\"url\"])\n",
    "        wait = WebDriverWait(driver, 10)\n",
    "        wait.until(lambda driver: driver.current_url != news[\"url\"])\n",
    "        news['url'] = driver.current_url\n",
    "        news['article'] = news_reader.get_full_article(driver.current_url).text\n",
    "    except Exception as e:\n",
    "        print(e)\n",
    "        news['article'] = \"\"\n",
    "        print(driver.current_url + \"  not scraped\")"
   ]
  },
  {
   "cell_type": "code",
   "execution_count": 15,
   "id": "c4d4647b",
   "metadata": {},
   "outputs": [
    {
     "name": "stderr",
     "output_type": "stream",
     "text": [
      "Device set to use cpu\n"
     ]
    }
   ],
   "source": [
    "# NER = pipeline(\"token-classification\", model=\"covalenthq/cryptoNER\")\n",
    "SENTIMENT = pipeline(\"text-classification\", model=\"ElKulako/cryptobert\", max_length=64, truncation=True, padding = 'max_length')\n",
    "# SUMMARIZE = pipeline(\"summarization\")"
   ]
  },
  {
   "cell_type": "code",
   "execution_count": 16,
   "id": "0942a7e0",
   "metadata": {},
   "outputs": [
    {
     "data": {
      "text/plain": [
       "[{'label': 'Neutral', 'score': 0.664946436882019}]"
      ]
     },
     "execution_count": 16,
     "metadata": {},
     "output_type": "execute_result"
    }
   ],
   "source": [
    "SENTIMENT([gnews[0][\"article\"]])"
   ]
  },
  {
   "cell_type": "code",
   "execution_count": 9,
   "id": "d725923e",
   "metadata": {},
   "outputs": [],
   "source": [
    "prev_end = -1\n",
    "lst = []\n",
    "for i in NER(gnews[0]['article']):\n",
    "    if i['start'] == prev_end or i['entity'].startswith('I'):\n",
    "        lst[-1] += i['word']\n",
    "    else:\n",
    "        lst.append(i['word'])\n",
    "        prev_end = -1"
   ]
  },
  {
   "cell_type": "code",
   "execution_count": 6,
   "id": "84efc06f",
   "metadata": {},
   "outputs": [],
   "source": []
  },
  {
   "cell_type": "code",
   "execution_count": 10,
   "id": "c5a1682e",
   "metadata": {},
   "outputs": [
    {
     "data": {
      "text/plain": [
       "['▁Metaplanet▁Inc.',\n",
       " '9,241',\n",
       " '▁Meta',\n",
       " '▁Micro',\n",
       " '45',\n",
       " '▁Meta',\n",
       " '▁Saylor',\n",
       " '▁Metaplanet',\n",
       " '▁Metaplanet',\n",
       " 'Me',\n",
       " 'taplanet-',\n",
       " '2.3▁million']"
      ]
     },
     "execution_count": 10,
     "metadata": {},
     "output_type": "execute_result"
    }
   ],
   "source": [
    "lst"
   ]
  },
  {
   "cell_type": "code",
   "execution_count": null,
   "id": "af2f3dd7",
   "metadata": {},
   "outputs": [],
   "source": []
  }
 ],
 "metadata": {
  "kernelspec": {
   "display_name": "News_HF_pipeline",
   "language": "python",
   "name": "venv"
  },
  "language_info": {
   "codemirror_mode": {
    "name": "ipython",
    "version": 3
   },
   "file_extension": ".py",
   "mimetype": "text/x-python",
   "name": "python",
   "nbconvert_exporter": "python",
   "pygments_lexer": "ipython3",
   "version": "3.11.5"
  }
 },
 "nbformat": 4,
 "nbformat_minor": 5
}
